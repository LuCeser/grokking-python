{
 "cells": [
  {
   "cell_type": "markdown",
   "metadata": {},
   "source": [
    "**容器序列**\n",
    "\n",
    "存放的是所包含的任意对象的引用。\n",
    "\n",
    "* list\n",
    "* tuple\n",
    "* collections.deque\n",
    "\n",
    "**扁平序列**\n",
    "\n",
    "存放的是值，意味着其实是一段连续的内存空间。\n",
    "\n",
    "* str\n",
    "* bytearray\n",
    "* array.array\n",
    "* collections.deque\n",
    "* memoryview\n",
    "\n"
   ]
  },
  {
   "cell_type": "code",
   "execution_count": null,
   "metadata": {},
   "outputs": [],
   "source": []
  }
 ],
 "metadata": {
  "kernelspec": {
   "display_name": "Python 3",
   "language": "python",
   "name": "python3"
  },
  "language_info": {
   "codemirror_mode": {
    "name": "ipython",
    "version": 3
   },
   "file_extension": ".py",
   "mimetype": "text/x-python",
   "name": "python",
   "nbconvert_exporter": "python",
   "pygments_lexer": "ipython3",
   "version": "3.7.3"
  }
 },
 "nbformat": 4,
 "nbformat_minor": 2
}
