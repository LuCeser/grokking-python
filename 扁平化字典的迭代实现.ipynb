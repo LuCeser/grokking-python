{
 "cells": [
  {
   "attachments": {},
   "cell_type": "markdown",
   "metadata": {},
   "source": [
    "字典允许我们通过键的方式来创建嵌套结构进而存储数据，而键并不存储实际的数据，只是一个索引，索引的对象存储真正的数据。因此，字典的数据结构其实是很多K/V对的组合，举个最简单的例子："
   ]
  },
  {
   "cell_type": "code",
   "execution_count": 2,
   "metadata": {},
   "outputs": [
    {
     "data": {
      "text/plain": [
       "'stanley'"
      ]
     },
     "execution_count": 2,
     "metadata": {},
     "output_type": "execute_result"
    }
   ],
   "source": [
    "# 最简单的字典\n",
    "d = {\"name\": 'stanley', \"age\": 18, \"love\": 'python'}\n",
    "\n",
    "# 取值的方式也很简单：\n",
    "d[\"name\"]"
   ]
  },
  {
   "attachments": {},
   "cell_type": "markdown",
   "metadata": {},
   "source": [
    "什么是扁平化字典\n",
    "了解什么是字典，扁平化字典会容易了解很多了，直观讲就是键值对的嵌套而已。我们来看实际例子："
   ]
  },
  {
   "cell_type": "code",
   "execution_count": 3,
   "metadata": {},
   "outputs": [],
   "source": [
    "ansible_fact = {\n",
    "    \"sda\": {\n",
    "        \"holders\": [], \n",
    "        \"host\": \"SATA controller: Intel Corporation 82801HR/HO/HH (ICH8R/DO/DH) 6 port SATA Controller [AHCI mode] (rev 02)\", \n",
    "        \"model\": \"CentOS Linux-0 S\", \n",
    "        \"partitions\": {\n",
    "            \"sda1\": {\n",
    "                \"holders\": [], \n",
    "                \"sectors\": \"1024000\", \n",
    "                \"sectorsize\": 512, \n",
    "                \"size\": \"500.00 MB\", \n",
    "                \"start\": \"2048\", \n",
    "                \"uuid\": \"3aec5112-2a1c-4ce0-91de-e9514ba357b8\"\n",
    "            }, \n",
    "            \"sda2\": {\n",
    "                \"holders\": [\n",
    "                    \"VolGroup-lv_root\", \n",
    "                    \"VolGroup-lv_swap\", \n",
    "                    \"VolGroup-lv_home\"\n",
    "                ], \n",
    "                \"sectors\": \"133191680\", \n",
    "                \"sectorsize\": 512, \n",
    "                \"size\": \"63.51 GB\", \n",
    "                \"start\": \"1026048\", \n",
    "                \"uuid\": 'null'\n",
    "            }\n",
    "        }\n",
    "    }\n",
    "} "
   ]
  },
  {
   "attachments": {},
   "cell_type": "markdown",
   "metadata": {},
   "source": [
    "如上是ansible的setup获取的信息输出片段，如我们期望取 ansible_fact => sda => partitions => sda2 => size 的值该怎么办呢？"
   ]
  },
  {
   "cell_type": "code",
   "execution_count": 4,
   "metadata": {},
   "outputs": [
    {
     "data": {
      "text/plain": [
       "'63.51 GB'"
      ]
     },
     "execution_count": 4,
     "metadata": {},
     "output_type": "execute_result"
    }
   ],
   "source": [
    "ansible_fact['sda']['partitions']['sda2']['size']"
   ]
  },
  {
   "cell_type": "markdown",
   "metadata": {},
   "source": [
    "这样取值确实很麻烦，如果我们想取值方便将其转化为扁平化数组是不错的方式（只是通过该需求来演示扁平化数组，该案例的需求在实际企业中也可能是伪需求），ok我们看下扁平化后的数组是什么样子的："
   ]
  },
  {
   "cell_type": "code",
   "execution_count": 5,
   "metadata": {},
   "outputs": [
    {
     "data": {
      "text/plain": [
       "{'sda/holders': [],\n",
       " 'sda/host': 'SATA controller: Intel Corporation 82801HR/HO/HH (ICH8R/DO/DH) 6 port SATA Controller [AHCI mode] (rev 02)',\n",
       " 'sda/model': 'CentOS Linux-0 S',\n",
       " 'sda/partitions/sda1/holders': [],\n",
       " 'sda/partitions/sda1/sectors': '1024000',\n",
       " 'sda/partitions/sda1/sectorsize': 512,\n",
       " 'sda/partitions/sda1/size': '500.00 MB',\n",
       " 'sda/partitions/sda1/start': '2048',\n",
       " 'sda/partitions/sda1/uuid': '3aec5112-2a1c-4ce0-91de-e9514ba357b8',\n",
       " 'sda/partitions/sda2/holders': ['VolGroup-lv_root',\n",
       "  'VolGroup-lv_swap',\n",
       "  'VolGroup-lv_home'],\n",
       " 'sda/partitions/sda2/sectors': '133191680',\n",
       " 'sda/partitions/sda2/sectorsize': 512,\n",
       " 'sda/partitions/sda2/size': '63.51 GB',\n",
       " 'sda/partitions/sda2/start': '1026048',\n",
       " 'sda/partitions/sda2/uuid': 'null'}"
      ]
     },
     "execution_count": 5,
     "metadata": {},
     "output_type": "execute_result"
    }
   ],
   "source": [
    "{'sda/holders': [],\n",
    " 'sda/host': 'SATA controller: Intel Corporation 82801HR/HO/HH (ICH8R/DO/DH) 6 port SATA Controller [AHCI mode] (rev 02)',\n",
    " 'sda/model': 'CentOS Linux-0 S',\n",
    " 'sda/partitions/sda1/holders': [],\n",
    " 'sda/partitions/sda1/sectors': '1024000',\n",
    " 'sda/partitions/sda1/sectorsize': 512,\n",
    " 'sda/partitions/sda1/size': '500.00 MB',\n",
    " 'sda/partitions/sda1/start': '2048',\n",
    " 'sda/partitions/sda1/uuid': '3aec5112-2a1c-4ce0-91de-e9514ba357b8',\n",
    " 'sda/partitions/sda2/holders': ['VolGroup-lv_root',\n",
    "                                                                                                      'VolGroup-lv_swap',\n",
    "                                 'VolGroup-lv_home'],\n",
    " 'sda/partitions/sda2/sectors': '133191680',\n",
    " 'sda/partitions/sda2/sectorsize': 512,\n",
    " 'sda/partitions/sda2/size': '63.51 GB',\n",
    " 'sda/partitions/sda2/start': '1026048',\n",
    " 'sda/partitions/sda2/uuid': 'null'}"
   ]
  },
  {
   "attachments": {},
   "cell_type": "markdown",
   "metadata": {},
   "source": [
    "k值中的/可以是任意你期望的连接符，这里以/做示例，这样对比下来大家对扁平化字典有清晰的了解了吧。我们来看下具体的实现思路"
   ]
  },
  {
   "attachments": {},
   "cell_type": "markdown",
   "metadata": {},
   "source": [
    "## 实现思路\n",
    "相信聪明的朋友们都看出来了，无非是将原来的字典通过一定的规则转化为新的字典而已，那这里的大致思路及涉及技术点如下：\n",
    "\t1. 获取旧字典的K/V对（迭代器）\n",
    "\t2. 对K/V做循环，直至不再嵌套字典 （循环、判断）\n",
    "\t3. 使用/拼接嵌套循环的K1、K2…Kn （format）\n",
    "\t4. 对K1/K2/../Kn赋值并生成新的字典（字典）\n",
    "    \n",
    "## 涉及技术点\n",
    "\n",
    "### 字典\n",
    "最简单的字典\n",
    "```python\n",
    "d = {\"name\": stanley, \"age\": 18, \"love\": 'python'}\n",
    "```\n",
    "### 字典更新:\n",
    "通过索引更新字典\n",
    "```python\n",
    "d['base'] = 'china'\n",
    "```\n",
    "迭代\n",
    "函数\n",
    "def fun(args):\n",
    "pass\n",
    "fun(arg)\n",
    "函数嵌套\n",
    "def fun(args):\n",
    "def fun2(arg2):\n",
    "pass\n",
    "fun2(arg2)\n",
    "fun(arg)\n",
    "format格式化输出\n",
    "```python\n",
    "'i am {},i love {}'.format('stanley','python')\n",
    "```"
   ]
  },
  {
   "cell_type": "code",
   "execution_count": 6,
   "metadata": {},
   "outputs": [
    {
     "data": {
      "text/plain": [
       "{'sda/holders': [],\n",
       " 'sda/host': 'SATA controller: Intel Corporation 82801HR/HO/HH (ICH8R/DO/DH) 6 port SATA Controller [AHCI mode] (rev 02)',\n",
       " 'sda/model': 'CentOS Linux-0 S',\n",
       " 'sda/partitions/sda1/holders': [],\n",
       " 'sda/partitions/sda1/sectors': '1024000',\n",
       " 'sda/partitions/sda1/sectorsize': 512,\n",
       " 'sda/partitions/sda1/size': '500.00 MB',\n",
       " 'sda/partitions/sda1/start': '2048',\n",
       " 'sda/partitions/sda1/uuid': '3aec5112-2a1c-4ce0-91de-e9514ba357b8',\n",
       " 'sda/partitions/sda2/holders': ['VolGroup-lv_root',\n",
       "  'VolGroup-lv_swap',\n",
       "  'VolGroup-lv_home'],\n",
       " 'sda/partitions/sda2/sectors': '133191680',\n",
       " 'sda/partitions/sda2/sectorsize': 512,\n",
       " 'sda/partitions/sda2/size': '63.51 GB',\n",
       " 'sda/partitions/sda2/start': '1026048',\n",
       " 'sda/partitions/sda2/uuid': 'null'}"
      ]
     },
     "execution_count": 6,
     "metadata": {},
     "output_type": "execute_result"
    }
   ],
   "source": [
    "def flatten(d):\n",
    "    def _flatten(src,dst,pattern=''):\n",
    "        for k,v in src.items():\n",
    "            key = k if pattern == '' else '{}/{}'.format(pattern,k)\n",
    "            if isinstance(v,dict):\n",
    "                _flatten(v,dst,key)\n",
    "            else:\n",
    "                dst[key] = v\n",
    "    result = {}\n",
    "    _flatten(d,result)\n",
    "    return result\n",
    "\n",
    "flatten(ansible_fact) "
   ]
  },
  {
   "attachments": {},
   "cell_type": "markdown",
   "metadata": {},
   "source": [
    "来自[运维部落](http://mp.weixin.qq.com/s?__biz=MzIyMDA1MzgyNw==&mid=2651969267&idx=1&sn=d0ee66db1ec08669cf95fc5639a8bdf6&chksm=8c349edfbb4317c9d24aa46dee3ed4f14da138f974ebf1ff7ab14d7598b6baa7e8d40167855e&mpshare=1&scene=1&srcid=0801u75IlL8EzfTDtBKfzxiK#rd![image.png](attachment:image.png))"
   ]
  },
  {
   "cell_type": "code",
   "execution_count": null,
   "metadata": {},
   "outputs": [],
   "source": [
    "ß"
   ]
  }
 ],
 "metadata": {
  "kernelspec": {
   "display_name": "Python 3",
   "language": "python",
   "name": "python3"
  },
  "language_info": {
   "codemirror_mode": {
    "name": "ipython",
    "version": 3
   },
   "file_extension": ".py",
   "mimetype": "text/x-python",
   "name": "python",
   "nbconvert_exporter": "python",
   "pygments_lexer": "ipython3",
   "version": "3.7.3"
  }
 },
 "nbformat": 4,
 "nbformat_minor": 2
}
